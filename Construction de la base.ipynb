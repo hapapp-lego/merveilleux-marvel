{
 "cells": [
  {
   "cell_type": "markdown",
   "metadata": {},
   "source": [
    "# Sélection des fichiers pertinents"
   ]
  },
  {
   "cell_type": "markdown",
   "metadata": {},
   "source": [
    "## Observation des fichiers et sélection"
   ]
  },
  {
   "cell_type": "markdown",
   "metadata": {},
   "source": [
    "Risque dans la sélection, pas grave si 1 plus fréquent que 0. Ne pas dire bonne critique ou mauvaise mais positive ou négative. Expliquer le choix d'équilibrer, le fait mathématiquement pour le moment, l'expliquer pour que fasse sens intuitivement, socialement maintenant. "
   ]
  },
  {
   "cell_type": "markdown",
   "metadata": {},
   "source": [
    "Train-test : 2/3 1/3 généralement. Peut le faire aléatoirement pour le moment, pas de problème, pas évolution temporelle ou selon autre variable dans ce cas."
   ]
  },
  {
   "cell_type": "markdown",
   "metadata": {},
   "source": [
    "Eventuellement prendre l'utilisateur, pour repérer ses façons de parler."
   ]
  },
  {
   "cell_type": "markdown",
   "metadata": {},
   "source": [
    "Pour réduire, faire le tf-idf de tous les mots et voir ceux qui ressortent. Garder ceux qui font sens et sont fréquents par ex."
   ]
  },
  {
   "cell_type": "markdown",
   "metadata": {},
   "source": [
    "Faire un group-by pour donner moyenne de td-idf ou juste fréquence des mots d'intérêt gardés par film : comme ça, si \"génial\" très fréquent mais que pas présent dans une critique, la portera quand même vers 1. Tableau final a les features critique par critique, film par film, en colonne et autre colonne avec la valeur moyenne sur le film des features."
   ]
  },
  {
   "cell_type": "code",
   "execution_count": null,
   "metadata": {
    "collapsed": true
   },
   "outputs": [],
   "source": []
  },
  {
   "cell_type": "code",
   "execution_count": 1,
   "metadata": {
    "collapsed": true
   },
   "outputs": [],
   "source": [
    "from os import listdir\n",
    "from os.path import isfile, join\n",
    "import pandas as pd"
   ]
  },
  {
   "cell_type": "code",
   "execution_count": 2,
   "metadata": {
    "collapsed": false
   },
   "outputs": [],
   "source": [
    "import matplotlib.pyplot as plt\n",
    "import matplotlib\n",
    "matplotlib.style.use('ggplot')"
   ]
  },
  {
   "cell_type": "code",
   "execution_count": 3,
   "metadata": {
    "collapsed": true
   },
   "outputs": [],
   "source": [
    "import numpy as np"
   ]
  },
  {
   "cell_type": "code",
   "execution_count": 4,
   "metadata": {
    "collapsed": true
   },
   "outputs": [],
   "source": [
    "%matplotlib inline"
   ]
  },
  {
   "cell_type": "code",
   "execution_count": 5,
   "metadata": {
    "collapsed": true
   },
   "outputs": [],
   "source": [
    "# Liste les fichiers dans un dossier\n",
    "def lister_files (path) :\n",
    "    return [f for f in listdir(path) if isfile(join(path, f))]"
   ]
  },
  {
   "cell_type": "code",
   "execution_count": 6,
   "metadata": {
    "collapsed": false
   },
   "outputs": [],
   "source": [
    "# Agrège les notes de tous les avis dans un dossier en un dataframe.\n",
    "def df_files (files) :\n",
    "    df=pd.DataFrame(columns=[\"Note\", \"Film\", \"Fichier\"], index=range(len(files)))\n",
    "    i=0\n",
    "    for file in files :\n",
    "        note=int(file[0])\n",
    "        film=file[1:3]\n",
    "        if file[1].isdigit() :\n",
    "            note=10\n",
    "            film=file[2:4]\n",
    "        df.ix[i, \"Note\"]=note\n",
    "        df.ix[i, \"Film\"]= film\n",
    "        df.ix[i, \"Fichier\"]=file\n",
    "        i+=1\n",
    "    return df"
   ]
  },
  {
   "cell_type": "code",
   "execution_count": 7,
   "metadata": {
    "collapsed": false
   },
   "outputs": [],
   "source": [
    "# Liste les films dans un dataframe.\n",
    "def lister_films (df) :\n",
    "    return df[\"Film\"].unique()"
   ]
  },
  {
   "cell_type": "code",
   "execution_count": 8,
   "metadata": {
    "collapsed": false
   },
   "outputs": [],
   "source": [
    "# Histogramme des notes.\n",
    "def graph_repart(df) :\n",
    "    plt.figure()\n",
    "    return df.plot(kind='hist', title = \"Répartition des notes sur \"+str(len(df))+\" films Marvel\")"
   ]
  },
  {
   "cell_type": "code",
   "execution_count": 9,
   "metadata": {
    "collapsed": false
   },
   "outputs": [],
   "source": [
    "# Donne les déciles de la répartition des notes.\n",
    "def deciles (df) :\n",
    "    notes=df[\"Note\"]\n",
    "    return notes.quantile(q=np.arange(0, 1.1, 0.1))"
   ]
  },
  {
   "cell_type": "code",
   "execution_count": null,
   "metadata": {
    "collapsed": true
   },
   "outputs": [],
   "source": []
  },
  {
   "cell_type": "code",
   "execution_count": 10,
   "metadata": {
    "collapsed": false
   },
   "outputs": [
    {
     "data": {
      "text/plain": [
       "<matplotlib.axes._subplots.AxesSubplot at 0x155992029b0>"
      ]
     },
     "execution_count": 10,
     "metadata": {},
     "output_type": "execute_result"
    },
    {
     "data": {
      "text/plain": [
       "<matplotlib.figure.Figure at 0x1559906be80>"
      ]
     },
     "metadata": {},
     "output_type": "display_data"
    },
    {
     "data": {
      "image/png": "[encoded data removed]",
      "text/plain": [
       "<matplotlib.figure.Figure at 0x155991f5fd0>"
      ]
     },
     "metadata": {},
     "output_type": "display_data"
    }
   ],
   "source": [
    "path_raw= r\"C:\\Users\\alize\\Anaconda3\\Scripts\\Projet\\Raw_data\"\n",
    "files_raw=lister_files(path_raw)\n",
    "df_raw=df_files(files_raw)\n",
    "graph_repart(df_raw)"
   ]
  },
  {
   "cell_type": "code",
   "execution_count": 11,
   "metadata": {
    "collapsed": false
   },
   "outputs": [
    {
     "data": {
      "text/plain": [
       "0.0     1\n",
       "0.1     4\n",
       "0.2     5\n",
       "0.3     6\n",
       "0.4     6\n",
       "0.5     7\n",
       "0.6     7\n",
       "0.7     8\n",
       "0.8     8\n",
       "0.9     9\n",
       "1.0    10\n",
       "Name: Note, dtype: object"
      ]
     },
     "execution_count": 11,
     "metadata": {},
     "output_type": "execute_result"
    }
   ],
   "source": [
    "deciles(df_raw)"
   ]
  },
  {
   "cell_type": "markdown",
   "metadata": {},
   "source": [
    "La note médiane n'est pas 5 et 7 est la note la plus fréquente. On choisit donc de considérer tous les fichiers notés 6 ou 7 comme neutres, de ne pas les considérer dans le cadre de ce projet qui se limite à identifier si, binairement, l'avis est positif ou négatif. De plus, pour que l'échantillon soit équilibré, on supprime 24 avis notés 8. Il y a ainsi 364 avis positifs et exactement autant de négatifs."
   ]
  },
  {
   "cell_type": "markdown",
   "metadata": {},
   "source": [
    "## Vérification"
   ]
  },
  {
   "cell_type": "code",
   "execution_count": 12,
   "metadata": {
    "collapsed": true
   },
   "outputs": [],
   "source": [
    "path_new = r\"C:\\Users\\alize\\Anaconda3\\Scripts\\Projet\\Data_marvel\"\n",
    "files_new=lister_files(path_new)\n",
    "df_new=df_files(files_new)"
   ]
  },
  {
   "cell_type": "code",
   "execution_count": 13,
   "metadata": {
    "collapsed": false
   },
   "outputs": [
    {
     "name": "stdout",
     "output_type": "stream",
     "text": [
      "['AS' 'Av' 'CA' 'DP' 'DS' 'GG' 'Sb' 'SM' 'XC' 'XD' 'XM' 'AU' 'IH' 'St' 'Th'\n",
      " 'TT' 'AM' 'CS' 'CV' 'IM' 'It'] \n",
      " ['AS' 'Av' 'CA' 'DP' 'DS' 'GG' 'Sb' 'SM' 'XC' 'XD' 'XM' 'AU' 'IH' 'St' 'Th'\n",
      " 'TT' 'AM' 'CS' 'CV' 'IM' 'It']\n"
     ]
    }
   ],
   "source": [
    "print(lister_films(df_raw), \"\\n\", lister_films(df_new))"
   ]
  },
  {
   "cell_type": "markdown",
   "metadata": {},
   "source": [
    "Aucun film n'a été éliminé."
   ]
  },
  {
   "cell_type": "code",
   "execution_count": 14,
   "metadata": {
    "collapsed": false
   },
   "outputs": [
    {
     "data": {
      "text/plain": [
       "<matplotlib.axes._subplots.AxesSubplot at 0x15599b142b0>"
      ]
     },
     "execution_count": 14,
     "metadata": {},
     "output_type": "execute_result"
    },
    {
     "data": {
      "text/plain": [
       "<matplotlib.figure.Figure at 0x155992ff400>"
      ]
     },
     "metadata": {},
     "output_type": "display_data"
    },
    {
     "data": {
      "image/png": "[encoded data removed]",
      "text/plain": [
       "<matplotlib.figure.Figure at 0x15599b0fb00>"
      ]
     },
     "metadata": {},
     "output_type": "display_data"
    }
   ],
   "source": [
    "graph_repart(df_new)"
   ]
  },
  {
   "cell_type": "markdown",
   "metadata": {},
   "source": [
    "On a simplement tronqué une partie des données, correspondant aux avis définis comme neutres."
   ]
  },
  {
   "cell_type": "code",
   "execution_count": 15,
   "metadata": {
    "collapsed": false
   },
   "outputs": [],
   "source": [
    "#Enregistrement de la liste des fichiers dans chaque dossier.\n",
    "df_raw.to_excel(\"Liste_raw.xlsx\", index=False)\n",
    "df_new.to_excel(\"Liste_new.xlsx\", index=False)"
   ]
  },
  {
   "cell_type": "markdown",
   "metadata": {
    "collapsed": false
   },
   "source": [
    "# Construction de la base"
   ]
  },
  {
   "cell_type": "code",
   "execution_count": 16,
   "metadata": {
    "collapsed": false
   },
   "outputs": [],
   "source": [
    "base=pd.DataFrame(columns=[\"Note\", \"Film\", \"Fichier\"])\n",
    "i=0\n",
    "for file in files_new :\n",
    "    path = r\"Data_marvel/\"+file\n",
    "    temp=pd.read_csv(path, sep = \"\\t\", engine=\"python\", header=None, names = [\"Note\", \"Avis\"], quotechar=\"\\\"\", quoting=3)\n",
    "    base= pd.concat([base, temp], ignore_index=True)\n",
    "    if file[1].isdigit() :\n",
    "        base.ix[i, \"Film\"] = file[2:4]\n",
    "    else : \n",
    "        base.ix[i, \"Film\"] =file[1:3]\n",
    "    base.ix[i, \"Fichier\"]=file    \n",
    "    i+=1"
   ]
  },
  {
   "cell_type": "code",
   "execution_count": 17,
   "metadata": {
    "collapsed": false
   },
   "outputs": [
    {
     "data": {
      "text/html": [
       "<div>\n",
       "<table border=\"1\" class=\"dataframe\">\n",
       "  <thead>\n",
       "    <tr style=\"text-align: right;\">\n",
       "      <th></th>\n",
       "      <th>Avis</th>\n",
       "      <th>Fichier</th>\n",
       "      <th>Film</th>\n",
       "      <th>Note</th>\n",
       "    </tr>\n",
       "  </thead>\n",
       "  <tbody>\n",
       "    <tr>\n",
       "      <th>723</th>\n",
       "      <td>Je ne m'y attendais pas, j'ai été soufflé : X-...</td>\n",
       "      <td>9XD53.txt</td>\n",
       "      <td>XD</td>\n",
       "      <td>9.0</td>\n",
       "    </tr>\n",
       "    <tr>\n",
       "      <th>724</th>\n",
       "      <td>En ces temps où Hollywood ne voit plus que des...</td>\n",
       "      <td>9XM17.txt</td>\n",
       "      <td>XM</td>\n",
       "      <td>9.0</td>\n",
       "    </tr>\n",
       "    <tr>\n",
       "      <th>725</th>\n",
       "      <td>Le début des années 2000. Période charnière du...</td>\n",
       "      <td>9XM18.txt</td>\n",
       "      <td>XM</td>\n",
       "      <td>9.0</td>\n",
       "    </tr>\n",
       "    <tr>\n",
       "      <th>726</th>\n",
       "      <td>En ces temps où Hollywood ne voit plus que des...</td>\n",
       "      <td>9XM6.txt</td>\n",
       "      <td>XM</td>\n",
       "      <td>9.0</td>\n",
       "    </tr>\n",
       "    <tr>\n",
       "      <th>727</th>\n",
       "      <td>Le début des années 2000. Période charnière du...</td>\n",
       "      <td>9XM8.txt</td>\n",
       "      <td>XM</td>\n",
       "      <td>9.0</td>\n",
       "    </tr>\n",
       "  </tbody>\n",
       "</table>\n",
       "</div>"
      ],
      "text/plain": [
       "                                                  Avis    Fichier Film  Note\n",
       "723  Je ne m'y attendais pas, j'ai été soufflé : X-...  9XD53.txt   XD   9.0\n",
       "724  En ces temps où Hollywood ne voit plus que des...  9XM17.txt   XM   9.0\n",
       "725  Le début des années 2000. Période charnière du...  9XM18.txt   XM   9.0\n",
       "726  En ces temps où Hollywood ne voit plus que des...   9XM6.txt   XM   9.0\n",
       "727  Le début des années 2000. Période charnière du...   9XM8.txt   XM   9.0"
      ]
     },
     "execution_count": 17,
     "metadata": {},
     "output_type": "execute_result"
    }
   ],
   "source": [
    "base.tail()"
   ]
  },
  {
   "cell_type": "markdown",
   "metadata": {},
   "source": [
    "Il y a des doublons dans les fichiers. On supprime ces doublons, qui risqueraient autrement d'altérer les résultats en surpondérant certains mots, de fait présents plus souvent, en plus de ralentir les calculs sans raison avec des éléments impertinents."
   ]
  },
  {
   "cell_type": "code",
   "execution_count": 18,
   "metadata": {
    "collapsed": true
   },
   "outputs": [],
   "source": [
    "base.dropna(axis=0, how='any', subset=[\"Avis\"], inplace=True)\n",
    "base.drop_duplicates(subset=\"Avis\", inplace=True)\n",
    "base.reset_index(inplace=True, drop=True)"
   ]
  },
  {
   "cell_type": "code",
   "execution_count": 26,
   "metadata": {
    "collapsed": false
   },
   "outputs": [],
   "source": [
    "base.to_csv(\"base.csv\", sep='\\t')"
   ]
  },
  {
   "cell_type": "code",
   "execution_count": 20,
   "metadata": {
    "collapsed": false
   },
   "outputs": [
    {
     "data": {
      "text/plain": [
       "628"
      ]
     },
     "execution_count": 20,
     "metadata": {},
     "output_type": "execute_result"
    }
   ],
   "source": [
    "len(base)"
   ]
  },
  {
   "cell_type": "code",
   "execution_count": 21,
   "metadata": {
    "collapsed": false
   },
   "outputs": [
    {
     "data": {
      "text/plain": [
       "628"
      ]
     },
     "execution_count": 21,
     "metadata": {},
     "output_type": "execute_result"
    }
   ],
   "source": [
    "base[\"Avis\"].count()"
   ]
  },
  {
   "cell_type": "code",
   "execution_count": 22,
   "metadata": {
    "collapsed": false
   },
   "outputs": [],
   "source": [
    "for i in range (len(base)) :\n",
    "    base.ix[i, \"Longueur\"]=len(base[\"Avis\"][i])"
   ]
  },
  {
   "cell_type": "code",
   "execution_count": 23,
   "metadata": {
    "collapsed": false
   },
   "outputs": [
    {
     "data": {
      "text/html": [
       "<div>\n",
       "<table border=\"1\" class=\"dataframe\">\n",
       "  <thead>\n",
       "    <tr style=\"text-align: right;\">\n",
       "      <th></th>\n",
       "      <th>Avis</th>\n",
       "      <th>Fichier</th>\n",
       "      <th>Film</th>\n",
       "      <th>Note</th>\n",
       "      <th>Longueur</th>\n",
       "    </tr>\n",
       "  </thead>\n",
       "  <tbody>\n",
       "    <tr>\n",
       "      <th>0</th>\n",
       "      <td>Après la trilogie ronflante de Sam Rémi sans-f...</td>\n",
       "      <td>10AS44.txt</td>\n",
       "      <td>AS</td>\n",
       "      <td>10.0</td>\n",
       "      <td>1555.0</td>\n",
       "    </tr>\n",
       "    <tr>\n",
       "      <th>1</th>\n",
       "      <td>On l'attendait, le voilà. Joss Whedon a créé l...</td>\n",
       "      <td>10Av15.txt</td>\n",
       "      <td>Av</td>\n",
       "      <td>10.0</td>\n",
       "      <td>3136.0</td>\n",
       "    </tr>\n",
       "    <tr>\n",
       "      <th>2</th>\n",
       "      <td>Fantasme des lecteurs de comics depuis des ann...</td>\n",
       "      <td>10Av19.txt</td>\n",
       "      <td>Av</td>\n",
       "      <td>10.0</td>\n",
       "      <td>13442.0</td>\n",
       "    </tr>\n",
       "    <tr>\n",
       "      <th>3</th>\n",
       "      <td>Tout le monde commence ses critiques par \"je m...</td>\n",
       "      <td>10Av22.txt</td>\n",
       "      <td>Av</td>\n",
       "      <td>10.0</td>\n",
       "      <td>6722.0</td>\n",
       "    </tr>\n",
       "    <tr>\n",
       "      <th>4</th>\n",
       "      <td>Après une introduction qui, malgré une certain...</td>\n",
       "      <td>10Av33.txt</td>\n",
       "      <td>Av</td>\n",
       "      <td>10.0</td>\n",
       "      <td>1446.0</td>\n",
       "    </tr>\n",
       "  </tbody>\n",
       "</table>\n",
       "</div>"
      ],
      "text/plain": [
       "                                                Avis     Fichier Film  Note  \\\n",
       "0  Après la trilogie ronflante de Sam Rémi sans-f...  10AS44.txt   AS  10.0   \n",
       "1  On l'attendait, le voilà. Joss Whedon a créé l...  10Av15.txt   Av  10.0   \n",
       "2  Fantasme des lecteurs de comics depuis des ann...  10Av19.txt   Av  10.0   \n",
       "3  Tout le monde commence ses critiques par \"je m...  10Av22.txt   Av  10.0   \n",
       "4  Après une introduction qui, malgré une certain...  10Av33.txt   Av  10.0   \n",
       "\n",
       "   Longueur  \n",
       "0    1555.0  \n",
       "1    3136.0  \n",
       "2   13442.0  \n",
       "3    6722.0  \n",
       "4    1446.0  "
      ]
     },
     "execution_count": 23,
     "metadata": {},
     "output_type": "execute_result"
    }
   ],
   "source": [
    "base.head()"
   ]
  },
  {
   "cell_type": "code",
   "execution_count": 24,
   "metadata": {
    "collapsed": true
   },
   "outputs": [],
   "source": [
    "import matplotlib.pyplot as plt\n",
    "plt.style.use('ggplot')\n",
    "\n",
    "%matplotlib inline"
   ]
  },
  {
   "cell_type": "code",
   "execution_count": 147,
   "metadata": {
    "collapsed": false
   },
   "outputs": [
    {
     "data": {
      "text/plain": [
       "<matplotlib.axes._subplots.AxesSubplot at 0x1b7823609b0>"
      ]
     },
     "execution_count": 147,
     "metadata": {},
     "output_type": "execute_result"
    },
    {
     "data": {
      "image/png": "[encoded data removed]",
      "text/plain": [
       "<matplotlib.figure.Figure at 0x1b782368748>"
      ]
     },
     "metadata": {},
     "output_type": "display_data"
    }
   ],
   "source": [
    "base.plot(kind=\"scatter\", y=\"Longueur de la critique\", x=\"Note\")"
   ]
  },
  {
   "cell_type": "code",
   "execution_count": 25,
   "metadata": {
    "collapsed": false
   },
   "outputs": [
    {
     "data": {
      "text/plain": [
       "0.0035614533419943196"
      ]
     },
     "execution_count": 25,
     "metadata": {},
     "output_type": "execute_result"
    }
   ],
   "source": [
    "base[[\"Longueur\", \"Note\"]].corr().ix[\"Longueur\", \"Note\"]"
   ]
  },
  {
   "cell_type": "code",
   "execution_count": null,
   "metadata": {
    "collapsed": true
   },
   "outputs": [],
   "source": []
  }
 ],
 "metadata": {
  "kernelspec": {
   "display_name": "Python 3",
   "language": "python",
   "name": "python3"
  },
  "language_info": {
   "codemirror_mode": {
    "name": "ipython",
    "version": 3
   },
   "file_extension": ".py",
   "mimetype": "text/x-python",
   "name": "python",
   "nbconvert_exporter": "python",
   "pygments_lexer": "ipython3",
   "version": "3.5.2"
  }
 },
 "nbformat": 4,
 "nbformat_minor": 0
}
